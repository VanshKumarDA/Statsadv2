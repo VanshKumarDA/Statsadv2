{
  "nbformat": 4,
  "nbformat_minor": 0,
  "metadata": {
    "colab": {
      "provenance": []
    },
    "kernelspec": {
      "name": "python3",
      "display_name": "Python 3"
    },
    "language_info": {
      "name": "python"
    }
  },
  "cells": [
    {
      "cell_type": "markdown",
      "source": [
        "1. What is hypothesis testing in statistics?\n",
        "\n",
        " Hypothesis testing is a core concept in statistics used to make decisions or inferences about populations based on sample data. It is a statistical method that allows you to test assumptions (claims or beliefs) about a population parameter using sample data."
      ],
      "metadata": {
        "id": "rXX_t-XXcMt6"
      }
    },
    {
      "cell_type": "markdown",
      "source": [
        "2. What is the null hypothesis, and how does it differ from the alternative hypothesis?\n",
        "\n",
        " It is the default assumption or status quo. Typically states that there is no effect, no difference, or no relationship. It serves as the hypothesis that is tested directly. In Alternative Hypothesis, it represents a claim of change or effect, it competes claim, Supports if\n",
        "𝐻\n",
        "0\n",
        "H\n",
        "0\n",
        "​\n",
        "  is rejected, Accepts only by rejecting\n",
        "𝐻\n",
        "0\n",
        "H\n",
        "0\n",
        "​\n"
      ],
      "metadata": {
        "id": "oG8euULLcNDb"
      }
    },
    {
      "cell_type": "markdown",
      "source": [
        "3. What is the significance level in hypothesis testing, and why is it important?\n",
        "\n",
        " The significance level (denoted as\n",
        "𝛼\n",
        "α) is the probability of rejecting the null hypothesis when it is actually true.\n",
        "\n",
        "In other words, it's the risk you're willing to take of making a Type I error. It defines the cutoff for whether your p-value is small enough to reject\n",
        "𝐻\n",
        "0\n",
        "H\n",
        "0\n",
        "​\n",
        " . The comparison of p-value and\n",
        "𝛼\n",
        "α is how you make a statistical decision."
      ],
      "metadata": {
        "id": "ilXyKrvbcQoq"
      }
    },
    {
      "cell_type": "markdown",
      "source": [
        "4. What does a P-value represent in hypothesis testing?\n",
        "\n",
        " The p-value is a crucial concept in hypothesis testing, often misunderstood — but very powerful when interpreted correctly. It is the probability of obtaining a test result at least as extreme as the one observed, assuming the null hypothesis\n",
        "𝐻\n",
        "0\n",
        "H\n",
        "0\n",
        "​\n",
        "  is true."
      ],
      "metadata": {
        "id": "2PKS6QK3cQzM"
      }
    },
    {
      "cell_type": "markdown",
      "source": [
        "5. How do you interpret the P-value in hypothesis testing?\n",
        "\n",
        " There is a 2% chance of observing such results if\n",
        "𝐻\n",
        "0\n",
        "H\n",
        "0\n",
        "​\n",
        "  were true. Since 0.02 < 0.05, you reject\n",
        "𝐻\n",
        "0\n",
        "H\n",
        "0\n",
        "​\n",
        " . You conclude that there's statistically significant evidence the new drug is more effective. P-value is the probability that the null hypothesis is true."
      ],
      "metadata": {
        "id": "oii49uQpcQ-S"
      }
    },
    {
      "cell_type": "markdown",
      "source": [
        "6. What are Type 1 and Type 2 errors in hypothesis testing?\n",
        "\n",
        " Type I Error (False Positive) - Rejecting the null hypothesis (H₀) when it is actually true. A medical test concludes a patient has a disease when they actually don’t. Denoted by α (alpha), which is also the significance level (e.g., 0.05).\n",
        "  \n",
        "  Type II Error (False Negative) - Failing to reject the null hypothesis when it is actually false. A medical test fails to detect a disease that the patient does have. Denoted by β (beta)."
      ],
      "metadata": {
        "id": "P5_9KkoKcRHq"
      }
    },
    {
      "cell_type": "markdown",
      "source": [
        "7. What is the difference b/w a one-tailed and a two-tailed test in hypothesis testing?\n",
        "\n",
        " One-Tailed Test: Tests for an effect in one direction only. You have a specific direction in mind (e.g., greater than or less than). Testing if a new drug increases recovery speed (only checking for improvement, not worsening). Two-Tailed Test: Tests for an effect in both directions. You're testing for any significant difference, regardless of direction. Testing if a new teaching method leads to any change in test scores (could be higher or lower)."
      ],
      "metadata": {
        "id": "WNrH0IW-cRSs"
      }
    },
    {
      "cell_type": "markdown",
      "source": [
        "8. What is the Z-test, and when is it used in hypothesis testing?\n",
        "\n",
        " The Z-test is a statistical test used in hypothesis testing to determine whether there is a significant difference between a sample statistic (like the mean or proportion) and a known population parameter, assuming the data is normally distributed. It uses the Z-score, which tells you how many standard deviations a data point is from the population mean. Use a Z-test when the population standard deviation (σ) is known, the sample size is large (typically\n",
        "𝑛\n",
        "≥\n",
        "30\n",
        "n≥30), or the population is normally distributed and you're testing means or proportions."
      ],
      "metadata": {
        "id": "ubQygsRicRey"
      }
    },
    {
      "cell_type": "markdown",
      "source": [
        "9. How do you calculate the Z-score, and what does it represent in hypothesis testing?\n",
        "\n",
        " ![Capture 1.JPG](data:image/jpeg;base64,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)\n",
        "\n",
        " Where:\n",
        "\n",
        "𝑋\n",
        "ˉ\n",
        "X\n",
        "ˉ\n",
        "  = sample mean\n",
        "\n",
        "𝜇\n",
        "μ = population mean (under the null hypothesis)\n",
        "\n",
        "𝜎\n",
        "σ = population standard deviation\n",
        "\n",
        "𝑛\n",
        "n = sample size"
      ],
      "metadata": {
        "id": "EITQNWHucRpK"
      }
    },
    {
      "cell_type": "markdown",
      "source": [
        "10. What is the T-distribution, and when should it be used instead of the normal distribution?\n",
        "\n",
        " The T-distribution (Student’s t-distribution) is a probability distribution used in statistics for estimating population parameters when the sample size is small and/or the population standard deviation is unknown. It looks similar to the normal distribution. Use the T-distribution when:\n",
        "The population standard deviation (σ) is unknown.\n",
        "The sample size is small (typically n < 30).\n",
        "The underlying population is approximately normal."
      ],
      "metadata": {
        "id": "Yv5k_Y6FcR0a"
      }
    },
    {
      "cell_type": "markdown",
      "source": [
        "11. What is the difference b/w a Z-test and a T-test?\n",
        "\n",
        " The Z-test and T-test are both used in hypothesis testing to determine if there is a significant difference between sample and population statistics — but they are used under different conditions. In Z-test, Testing if average height differs from 170 cm, knowing σ whereas Testing if a small class’s average score differs from 75, without knowing σ this satisfied with T-test. Z-test Example:\n",
        "You have a sample of 100 battery lives, and you know the population SD. You test if the sample mean life is different from the claimed 10 hours.\n",
        "T-test Example:\n",
        "You measure the test scores of 15 students and don't know the population SD. You want to see if their average score is different from 70."
      ],
      "metadata": {
        "id": "Zybsr8KtcSCD"
      }
    },
    {
      "cell_type": "markdown",
      "source": [
        "12. What is the T-test, and how is it used in hypothesis testing?\n",
        "\n",
        " A T-test is a statistical method used in hypothesis testing to determine whether there is a significant difference between means, especially when:\n",
        "\n",
        "The sample size is small (typically\n",
        "𝑛\n",
        "<\n",
        "30\n",
        "n<30)\n",
        "\n",
        "The population standard deviation (σ) is unknown. You use a T-test when you want to:\n",
        "\n",
        "Compare a sample mean to a population mean\n",
        "\n",
        "Compare two sample means (independent or paired)\n",
        "\n",
        "You don’t know the population standard deviation"
      ],
      "metadata": {
        "id": "VatK2Q_2cSOa"
      }
    },
    {
      "cell_type": "markdown",
      "source": [
        "13. What is the relationship b/w Z-test and T-test in hypothesis testing?\n",
        "\n",
        " The Z-test and T-test are closely related statistical tools used for testing hypotheses about means. Both assess whether a sample mean significantly differs from a population mean or another sample mean. Their core purpose is the same, but the conditions under which they are applied differ."
      ],
      "metadata": {
        "id": "IPF9mZhPcScK"
      }
    },
    {
      "cell_type": "markdown",
      "source": [
        "14. What is a confidence interval, and how is it used to interpret statistical results?\n",
        "\n",
        " A confidence interval is a range of values that is likely to contain the true population parameter (like a mean or proportion) with a certain level of confidence (typically 95% or 99%). A CI gives a range instead of a single value — this communicates the precision of your estimate. If a confidence interval includes the null hypothesis value, you fail to reject H₀. If the null value is outside the interval, you reject H₀."
      ],
      "metadata": {
        "id": "75nYA4o2cSoD"
      }
    },
    {
      "cell_type": "markdown",
      "source": [
        "15. What is the margin of error, and how does it affect the confidence interval?\n",
        "\n",
        " The margin of error is the amount added and subtracted from a sample estimate (like the mean or proportion) to create a confidence interval. It reflects the maximum expected difference between the sample statistic and the true population parameter due to sampling variability. Larger MoE → Wider confidence interval → More uncertainty, Smaller MoE → Narrower confidence interval → More precision"
      ],
      "metadata": {
        "id": "FjoOvDn0cS1q"
      }
    },
    {
      "cell_type": "markdown",
      "source": [
        "16. How is Bayes'Theorem used in statistics, and what is its significance?\n",
        "\n",
        " Bayes’ Theorem is a fundamental rule in probability and statistics that allows you to update your beliefs about the likelihood of an event based on new evidence. Significance of Bayes'Theorem:\n",
        " 1. Combines prior knowledge with new evidence\n",
        " 2.Makes probabilistic reasoning dynamic\n",
        " 3. Forms the foundation of Bayesian statistics, an alternative to traditional (frequentist) methods\n",
        " 4. Is essential in decision theory, data science, and machine learning"
      ],
      "metadata": {
        "id": "9xQU3YYMcTJQ"
      }
    },
    {
      "cell_type": "markdown",
      "source": [
        "17. What is the Chi-square distribution, and when is it used?\n",
        "\n",
        " The Chi-square distribution is a right-skewed probability distribution commonly used in statistics when dealing with categorical data. It arises from the sum of squared standard normal variables and is used to evaluate how well observed data fit expected values."
      ],
      "metadata": {
        "id": "Uj9KMV_rcTb6"
      }
    },
    {
      "cell_type": "markdown",
      "source": [
        "18. What is the Chi-square goodness of fit test, and how is applied?\n",
        "\n",
        " The Chi-Square Goodness-of-Fit Test is a statistical test used to determine whether observed categorical data matches a theoretical (expected) distribution. When to Use It:\n",
        "\n",
        " Use the test when you want to compare:\n",
        "\n",
        " One categorical variable\n",
        "\n",
        " Across multiple categories\n",
        "\n",
        " To a known or hypothesized distribution"
      ],
      "metadata": {
        "id": "8CslTGG-cTsE"
      }
    },
    {
      "cell_type": "markdown",
      "source": [
        "19. What is the F-distribution, and when is it used in hypothesis testing?\n",
        "\n",
        " The F-distribution is a right-skewed, continuous probability distribution that arises when comparing two variances. It is used primarily in analysis of variance (ANOVA) and regression analysis.\n",
        "\n",
        "It is defined as the ratio of two scaled chi-square distributions, each divided by their respective degrees of freedom."
      ],
      "metadata": {
        "id": "2nvz8GIJcT6U"
      }
    },
    {
      "cell_type": "markdown",
      "source": [
        "20. What is an ANOVA test, and what are its assumptions?\n",
        "\n",
        " ANOVA stands for Analysis of Variance. It is a statistical method used to test whether there are significant differences between the means of three or more independent groups.\n",
        " Instead of comparing group means one by one (which increases error), ANOVA tests all groups simultaneously using the F-distribution."
      ],
      "metadata": {
        "id": "3m8sQ5g6cUEC"
      }
    }
  ]
}